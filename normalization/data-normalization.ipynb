{
 "cells": [
  {
   "cell_type": "markdown",
   "id": "6ba03906",
   "metadata": {
    "papermill": {
     "duration": 0.007418,
     "end_time": "2022-04-09T11:54:15.910189",
     "exception": false,
     "start_time": "2022-04-09T11:54:15.902771",
     "status": "completed"
    },
    "tags": []
   },
   "source": [
    "![alt text](https://miro.medium.com/max/1400/1*l2Z4jzPv3JNHwUf6EyFxyg.jpeg \"Title\")"
   ]
  },
  {
   "cell_type": "markdown",
   "id": "a4776f18",
   "metadata": {
    "papermill": {
     "duration": 0.005733,
     "end_time": "2022-04-09T11:54:15.922326",
     "exception": false,
     "start_time": "2022-04-09T11:54:15.916593",
     "status": "completed"
    },
    "tags": []
   },
   "source": [
    "A. What is Data Normalization?\n",
    "\n",
    "B. Why do we need Data Normalization?\n",
    "\n",
    "C. Methods of Data Normalization\n",
    "1. Z-score Normalization(Standardization)\n",
    "2. Robust Scalar\n",
    "3. Min-Max Normalization\n",
    "4. Mean Normalization\n",
    "5. Unit Length"
   ]
  },
  {
   "cell_type": "markdown",
   "id": "bf753a1b",
   "metadata": {
    "papermill": {
     "duration": 0.005672,
     "end_time": "2022-04-09T11:54:15.934038",
     "exception": false,
     "start_time": "2022-04-09T11:54:15.928366",
     "status": "completed"
    },
    "tags": []
   },
   "source": [
    "#### A. What is Data Normalization?\n",
    "- a data preprocessing step where we adjust the scales of the features to have a standard scale of measure\n",
    "- known as Feature Scaling in ML\n",
    "\n",
    "#### B. Why do we need Data Normalization?\n",
    "- for ML algorithms such as Distance-based or Descent-based algorithms\n",
    "- Distance-Based algorithms\n",
    "    - SVM, K-Means, and KNN\n",
    "    - classifies objects by finding similarity between them using distance functions.\n",
    "    -  If we don’t scale, the feature with a higher magnitude (Salary), will have more influence than the feature with a lower magnitude (years of experience)\n",
    "- Gradient Descent Based Algorithms\n",
    "    - Regularisation regression\n",
    "    - uses the vector-valued function θ\n",
    "    - θ will descend faster in a lower scale variable as its learning rate will be higher.\n",
    "- Principal Component Analysis(PCA)\n",
    "    - tries to capture maximum variance\n",
    "    - the feature with a larger scale could influence the smaller-scale features\n",
    "    \n",
    "**Scaling is not required for tree-based models** because they follow some rules for classification and regression"
   ]
  },
  {
   "cell_type": "markdown",
   "id": "af45ccbe",
   "metadata": {
    "papermill": {
     "duration": 0.005411,
     "end_time": "2022-04-09T11:54:15.945347",
     "exception": false,
     "start_time": "2022-04-09T11:54:15.939936",
     "status": "completed"
    },
    "tags": []
   },
   "source": [
    "#### 1. Z-score Normalization(Standardization)\n",
    "- transforms x to x’:\n",
    "\n",
    "![alt text](https://miro.medium.com/max/992/1*DK6tNx7Ke_27-CdLT3_1Ug.png \"Title\")\n",
    "\n",
    "x: original value\n",
    "\n",
    "x': standardised values which have their resulting mean and s.d: [0, 1]\n",
    "\n",
    "![alt text](https://miro.medium.com/max/1400/1*kO3zmgJCzlj_NokZu1mGwA.png \"Title\")\n",
    "\n",
    "- The minimum value and maximum value of z score standardization aren't bounded by boundaries. \n",
    "- Even though standardization isn't bounded, the sample mean/variance still gets affected by the outliers.\n",
    "\n",
    "#### 2. Robust Scalar\n",
    "- best to use when we have outliers as it is robust of outliers\n",
    "- transforms x to x’:\n",
    "\n",
    "![alt text](https://miro.medium.com/max/1008/1*N0cPiRvreurI_rKU55g1Eg.png \"Title\")\n",
    "\n",
    "![alt text](https://miro.medium.com/max/1400/1*ImumkpYXwUh5TZW1XKYC0Q.png \"Title\")\n",
    "\n",
    "#### 3. Min-Max Normalization\n",
    "- transform x to x' by converting each value of features to a range between **0 and 1**, this is also known as **(0-1) Normalization**.\n",
    "- If negative values, range **[-1, 1]** \n",
    "\n",
    "![alt text](https://miro.medium.com/max/992/1*tbBScNpSloQ9uOd3QYNVtg.png \"Title\")\n",
    "\n",
    "- If we want to scale between some bounded **arbitrary set of values [a, b]**. Such as with image processing, pixels needs normalized [0, 255]. The formula: \n",
    "\n",
    "![alt text](https://miro.medium.com/max/832/1*xSfz8dkOEohUaRmb_N3XMQ.png \"Title\")\n",
    "\n",
    "![alt text](https://miro.medium.com/max/1400/1*hLIncYAvDfyGGFM8FLxnZw.png \"Title\")\n"
   ]
  },
  {
   "cell_type": "markdown",
   "id": "e3d8235e",
   "metadata": {
    "papermill": {
     "duration": 0.005463,
     "end_time": "2022-04-09T11:54:15.956563",
     "exception": false,
     "start_time": "2022-04-09T11:54:15.951100",
     "status": "completed"
    },
    "tags": []
   },
   "source": [
    "#### 4. Mean Normalization\n",
    "\n",
    "![alt text](https://miro.medium.com/max/920/1*TKTgR3jJNsDd77tZ-fOhxg.png \"Title\")\n",
    "\n",
    "\n",
    "#### 5. Unit Length Normalization\n",
    "\n",
    "![alt text](https://miro.medium.com/max/1116/1*lQLa6fMCs2f47mJRF59BwA.png \"Title\")\n"
   ]
  },
  {
   "cell_type": "markdown",
   "id": "5258ca85",
   "metadata": {
    "papermill": {
     "duration": 0.006066,
     "end_time": "2022-04-09T11:54:15.968356",
     "exception": false,
     "start_time": "2022-04-09T11:54:15.962290",
     "status": "completed"
    },
    "tags": []
   },
   "source": [
    "**Note: **\n",
    "1. both Min-Max Normalization and Unit Length are bounded by values [0, 1] \n",
    "2. bounded [0, 1] is a disadvantage when data has outliers\n",
    "3. **Robust Scalar** is best if the data has outliers\n"
   ]
  },
  {
   "cell_type": "markdown",
   "id": "3fcb40cd",
   "metadata": {
    "papermill": {
     "duration": 0.005469,
     "end_time": "2022-04-09T11:54:15.979779",
     "exception": false,
     "start_time": "2022-04-09T11:54:15.974310",
     "status": "completed"
    },
    "tags": []
   },
   "source": [
    "##### Key notes:\n",
    "- Choose which scaling to perform could be confusing.\n",
    "- No correct rul where which methods should be used.\n",
    "- sometimes, depending on what type of problem:\n",
    "    + Min-max normalization:\n",
    "        - if our problem needs the data to be bounded by some arbitrary values, OR\n",
    "        - if: don't know the data's distribution and it doesn't follow a Gaussian distribution\n",
    "        - such as image processing problems, the pixels need to be bounded [0, 255]\n",
    "    + Z-score standardization:\n",
    "        - if: needs the data to be centered by mean, and needs s.d = 1\n",
    "    + Standardization:\n",
    "        - if we know that the data's distribution follows a Gaussian distribution"
   ]
  }
 ],
 "metadata": {
  "kernelspec": {
   "display_name": "Python 3",
   "language": "python",
   "name": "python3"
  },
  "language_info": {
   "codemirror_mode": {
    "name": "ipython",
    "version": 3
   },
   "file_extension": ".py",
   "mimetype": "text/x-python",
   "name": "python",
   "nbconvert_exporter": "python",
   "pygments_lexer": "ipython3",
   "version": "3.7.12"
  },
  "papermill": {
   "default_parameters": {},
   "duration": 11.956431,
   "end_time": "2022-04-09T11:54:16.899531",
   "environment_variables": {},
   "exception": null,
   "input_path": "__notebook__.ipynb",
   "output_path": "__notebook__.ipynb",
   "parameters": {},
   "start_time": "2022-04-09T11:54:04.943100",
   "version": "2.3.3"
  }
 },
 "nbformat": 4,
 "nbformat_minor": 5
}
