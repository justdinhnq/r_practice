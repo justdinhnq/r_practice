{
 "cells": [
  {
   "cell_type": "markdown",
   "id": "2a64b0ff",
   "metadata": {
    "papermill": {
     "duration": 0.005511,
     "end_time": "2022-04-09T06:15:30.375496",
     "exception": false,
     "start_time": "2022-04-09T06:15:30.369985",
     "status": "completed"
    },
    "tags": []
   },
   "source": [
    "![alt text](https://miro.medium.com/max/1400/1*l2Z4jzPv3JNHwUf6EyFxyg.jpeg \"Title\")"
   ]
  },
  {
   "cell_type": "markdown",
   "id": "b628b08d",
   "metadata": {
    "papermill": {
     "duration": 0.004153,
     "end_time": "2022-04-09T06:15:30.384511",
     "exception": false,
     "start_time": "2022-04-09T06:15:30.380358",
     "status": "completed"
    },
    "tags": []
   },
   "source": [
    "A. What is Data Normalization?\n",
    "\n",
    "B. Why do we need Data Normalization?\n",
    "\n",
    "C. Methods of Data Normalization\n",
    "1. Z-score Normalization(Standardization)\n",
    "2. Robust Scalar\n",
    "3. Min-Max Normalization\n",
    "4. Mean Normalization\n",
    "5. Unit Length"
   ]
  },
  {
   "cell_type": "markdown",
   "id": "1874993b",
   "metadata": {
    "papermill": {
     "duration": 0.004163,
     "end_time": "2022-04-09T06:15:30.393145",
     "exception": false,
     "start_time": "2022-04-09T06:15:30.388982",
     "status": "completed"
    },
    "tags": []
   },
   "source": [
    "#### A. What is Data Normalization?\n",
    "- a data preprocessing step where we adjust the scales of the features to have a standard scale of measure\n",
    "- known as Feature Scaling in ML\n",
    "\n",
    "#### B. Why do we need Data Normalization?\n",
    "- for ML algorithms such as Distance-based or Descent-based algorithms\n",
    "- Distance-Based algorithms\n",
    "    - SVM, K-Means, and KNN\n",
    "    - classifies objects by finding similarity between them using distance functions.\n",
    "    -  If we don’t scale, the feature with a higher magnitude (Salary), will have more influence than the feature with a lower magnitude (years of experience)\n",
    "- Gradient Descent Based Algorithms\n",
    "    - Regularisation regression\n",
    "    - uses the vector-valued function θ\n",
    "    - θ will descend faster in a lower scale variable as its learning rate will be higher.\n",
    "- Principal Component Analysis(PCA)\n",
    "    - tries to capture maximum variance\n",
    "    - the feature with a larger scale could influence the smaller-scale features\n",
    "    \n",
    "**Scaling is not required for tree-based models** because they follow some rules for classification and regression"
   ]
  },
  {
   "cell_type": "markdown",
   "id": "3526f8ce",
   "metadata": {
    "papermill": {
     "duration": 0.004171,
     "end_time": "2022-04-09T06:15:30.401738",
     "exception": false,
     "start_time": "2022-04-09T06:15:30.397567",
     "status": "completed"
    },
    "tags": []
   },
   "source": [
    "#### 1. Z-score Normalization(Standardization)\n",
    "- transforms x to x’:\n",
    "\n",
    "![alt text](https://miro.medium.com/max/992/1*DK6tNx7Ke_27-CdLT3_1Ug.png \"Title\")\n",
    "\n",
    "x: original value\n",
    "\n",
    "x': standardised values which have their resulting mean and s.d: [0, 1]\n",
    "\n",
    "![alt text](https://miro.medium.com/max/1400/1*kO3zmgJCzlj_NokZu1mGwA.png \"Title\")\n",
    "\n",
    "- The minimum value and maximum value of z score standardization aren't bounded by boundaries. \n",
    "- Even though standardization isn't bounded, the sample mean/variance still gets affected by the outliers.\n",
    "\n",
    "#### 2. Robust Scalar\n",
    "- best to use when we have outliers as it is robust of outliers\n",
    "- transforms x to x’:\n",
    "\n",
    "![alt text](https://miro.medium.com/max/1008/1*N0cPiRvreurI_rKU55g1Eg.png \"Title\")\n",
    "\n",
    "![alt text](https://miro.medium.com/max/1400/1*ImumkpYXwUh5TZW1XKYC0Q.png \"Title\")\n",
    "\n",
    "#### 3. Min-Max Normalization\n",
    "- transform x to x' by converting each value of features to a range between **0 and 1**, this is also known as **(0-1) Normalization**.\n",
    "- If negative values, range **[-1, 1]** \n",
    "\n",
    "![alt text](https://miro.medium.com/max/992/1*tbBScNpSloQ9uOd3QYNVtg.png \"Title\")\n",
    "\n",
    "- If we want to scale between some bounded **arbitrary set of values [a, b]**. Such as with image processing, pixels needs normalized [0, 255]. The formula: \n",
    "\n",
    "![alt text](https://miro.medium.com/max/832/1*xSfz8dkOEohUaRmb_N3XMQ.png \"Title\")\n",
    "\n",
    "![alt text](https://miro.medium.com/max/1400/1*hLIncYAvDfyGGFM8FLxnZw.png \"Title\")\n"
   ]
  },
  {
   "cell_type": "markdown",
   "id": "c009ff81",
   "metadata": {
    "papermill": {
     "duration": 0.004191,
     "end_time": "2022-04-09T06:15:30.410342",
     "exception": false,
     "start_time": "2022-04-09T06:15:30.406151",
     "status": "completed"
    },
    "tags": []
   },
   "source": [
    "#### 4. Mean Normalization\n",
    "\n",
    "![alt text](https://miro.medium.com/max/920/1*TKTgR3jJNsDd77tZ-fOhxg.png \"Title\")\n",
    "\n",
    "\n",
    "#### 5. Unit Length Normalization\n"
   ]
  }
 ],
 "metadata": {
  "kernelspec": {
   "display_name": "Python 3",
   "language": "python",
   "name": "python3"
  },
  "language_info": {
   "codemirror_mode": {
    "name": "ipython",
    "version": 3
   },
   "file_extension": ".py",
   "mimetype": "text/x-python",
   "name": "python",
   "nbconvert_exporter": "python",
   "pygments_lexer": "ipython3",
   "version": "3.7.12"
  },
  "papermill": {
   "default_parameters": {},
   "duration": 10.488006,
   "end_time": "2022-04-09T06:15:31.027421",
   "environment_variables": {},
   "exception": null,
   "input_path": "__notebook__.ipynb",
   "output_path": "__notebook__.ipynb",
   "parameters": {},
   "start_time": "2022-04-09T06:15:20.539415",
   "version": "2.3.3"
  }
 },
 "nbformat": 4,
 "nbformat_minor": 5
}
